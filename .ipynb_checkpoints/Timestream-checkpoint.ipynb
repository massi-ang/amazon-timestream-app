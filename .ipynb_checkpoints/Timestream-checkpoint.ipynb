{
 "cells": [
  {
   "cell_type": "markdown",
   "metadata": {},
   "source": [
    "# Timestream\n",
    "\n",
    "This notebook explores the Timestream API via an sample database that is used to store sensor data from Ruuvi sensors. If you do not own Ruuvi sensor you can simply simulate the data using the generator.\n",
    "\n",
    "## Preparation\n",
    "\n",
    "In order to use the boto3 SDK you have to do some preparation steps.\n",
    "As this is a preview the SDK is not included in the standard boto3. You can add it using the following lines code:\n",
    "\n",
    "```bash\n",
    "aws configure add-model --service-name timestream-query --service-model file://./timestream-query/2018-11-01/service-2.json\n",
    "aws configure add-model --service-name timestream-write --service-model file://./timestream-write/2018-11-01/service-2.json\n",
    "```\n",
    "\n",
    "You have also to configure your `~/.aws/config` file adding the following line to the profile you want to use (eg `default`):\n",
    "\n",
    "```\n",
    "[default]\n",
    "endpoind_discovery_enabled=true\n",
    "```"
   ]
  },
  {
   "cell_type": "code",
   "execution_count": 1,
   "metadata": {},
   "outputs": [],
   "source": [
    "import boto3\n",
    "boto3.setup_default_session(profile_name='iot',region_name='us-east-1')"
   ]
  },
  {
   "cell_type": "markdown",
   "metadata": {},
   "source": [
    "## Databases\n",
    "\n",
    "Timestream databases and tables can be created using the write client."
   ]
  },
  {
   "cell_type": "code",
   "execution_count": 2,
   "metadata": {},
   "outputs": [],
   "source": [
    "tsc = boto3.client('timestream-write')"
   ]
  },
  {
   "cell_type": "code",
   "execution_count": 4,
   "metadata": {},
   "outputs": [
    {
     "data": {
      "text/plain": [
       "{'Databases': [{'Arn': 'arn:aws:timestream:us-east-1:699391019698:database/ruuvi',\n",
       "   'DatabaseName': 'ruuvi',\n",
       "   'TableCount': 1,\n",
       "   'KmsKeyId': 'arn:aws:kms:us-east-1:699391019698:key/85b0ac66-732f-4a71-b74a-e33073d64f86',\n",
       "   'CreationTime': datetime.datetime(2020, 5, 18, 15, 51, 11, tzinfo=tzlocal())},\n",
       "  {'Arn': 'arn:aws:timestream:us-east-1:699391019698:database/sampleDB',\n",
       "   'DatabaseName': 'sampleDB',\n",
       "   'TableCount': 1,\n",
       "   'KmsKeyId': 'arn:aws:kms:us-east-1:699391019698:key/85b0ac66-732f-4a71-b74a-e33073d64f86',\n",
       "   'CreationTime': datetime.datetime(2020, 5, 4, 21, 21, 14, tzinfo=tzlocal())}],\n",
       " 'ResponseMetadata': {'RequestId': 'GD6ZLUJA3Z5YFNEKMKI5FLFUMU',\n",
       "  'HTTPStatusCode': 200,\n",
       "  'HTTPHeaders': {'x-amzn-requestid': 'GD6ZLUJA3Z5YFNEKMKI5FLFUMU',\n",
       "   'content-type': 'application/x-amz-json-1.0',\n",
       "   'content-length': '467',\n",
       "   'date': 'Sat, 23 May 2020 09:18:06 GMT'},\n",
       "  'RetryAttempts': 0}}"
      ]
     },
     "execution_count": 4,
     "metadata": {},
     "output_type": "execute_result"
    }
   ],
   "source": [
    "tsc.list_databases()"
   ]
  },
  {
   "cell_type": "code",
   "execution_count": 5,
   "metadata": {},
   "outputs": [],
   "source": [
    "DB_NAME='ruuvi'"
   ]
  },
  {
   "cell_type": "code",
   "execution_count": 38,
   "metadata": {},
   "outputs": [
    {
     "data": {
      "text/plain": [
       "{'Database': {'Arn': 'arn:aws:timestream:us-east-1:699391019698:database/ruuvi',\n",
       "  'DatabaseName': 'ruuvi',\n",
       "  'TableCount': 0,\n",
       "  'KmsKeyId': 'arn:aws:kms:us-east-1:699391019698:key/85b0ac66-732f-4a71-b74a-e33073d64f86',\n",
       "  'CreationTime': datetime.datetime(2020, 5, 18, 15, 51, 11, tzinfo=tzlocal())},\n",
       " 'ResponseMetadata': {'RequestId': 'LHWM4KKAG667WNPESOZ76IEZEM',\n",
       "  'HTTPStatusCode': 200,\n",
       "  'HTTPHeaders': {'x-amzn-requestid': 'LHWM4KKAG667WNPESOZ76IEZEM',\n",
       "   'content-type': 'application/x-amz-json-1.0',\n",
       "   'content-length': '235',\n",
       "   'date': 'Mon, 18 May 2020 13:51:11 GMT'},\n",
       "  'RetryAttempts': 0}}"
      ]
     },
     "execution_count": 38,
     "metadata": {},
     "output_type": "execute_result"
    }
   ],
   "source": [
    "tsc.create_database(DatabaseName=DB_NAME)"
   ]
  },
  {
   "cell_type": "code",
   "execution_count": 39,
   "metadata": {},
   "outputs": [
    {
     "data": {
      "text/plain": [
       "{'Database': {'Arn': 'arn:aws:timestream:us-east-1:699391019698:database/ruuvi',\n",
       "  'DatabaseName': 'ruuvi',\n",
       "  'TableCount': 0,\n",
       "  'KmsKeyId': 'arn:aws:kms:us-east-1:699391019698:key/85b0ac66-732f-4a71-b74a-e33073d64f86',\n",
       "  'CreationTime': datetime.datetime(2020, 5, 18, 15, 51, 11, tzinfo=tzlocal())},\n",
       " 'ResponseMetadata': {'RequestId': 'I722UN4XOOWS36UOVW3M54HRWQ',\n",
       "  'HTTPStatusCode': 200,\n",
       "  'HTTPHeaders': {'x-amzn-requestid': 'I722UN4XOOWS36UOVW3M54HRWQ',\n",
       "   'content-type': 'application/x-amz-json-1.0',\n",
       "   'content-length': '235',\n",
       "   'date': 'Mon, 18 May 2020 13:51:11 GMT'},\n",
       "  'RetryAttempts': 0}}"
      ]
     },
     "execution_count": 39,
     "metadata": {},
     "output_type": "execute_result"
    }
   ],
   "source": [
    "tsc.describe_database(DatabaseName=DB_NAME)"
   ]
  },
  {
   "cell_type": "markdown",
   "metadata": {},
   "source": [
    "## Tables"
   ]
  },
  {
   "cell_type": "code",
   "execution_count": 6,
   "metadata": {},
   "outputs": [],
   "source": [
    "TABLE_NAME='sensors'\n",
    "HOT_TIER_HOURS=24\n",
    "COLD_TIER_TTL=90"
   ]
  },
  {
   "cell_type": "code",
   "execution_count": 41,
   "metadata": {},
   "outputs": [
    {
     "data": {
      "text/plain": [
       "{'Table': {'Arn': 'arn:aws:timestream:us-east-1:699391019698:database/ruuvi/table/sensors',\n",
       "  'TableName': 'sensors',\n",
       "  'DatabaseName': 'ruuvi',\n",
       "  'TableStatus': 'ACTIVE',\n",
       "  'RetentionProperties': {'MemoryStoreRetentionPeriodInHours': 24,\n",
       "   'MagneticStoreRetentionPeriodInDays': 90},\n",
       "  'CreationTime': datetime.datetime(2020, 5, 18, 15, 51, 14, tzinfo=tzlocal()),\n",
       "  'LastUpdatedTime': datetime.datetime(2020, 5, 18, 15, 51, 14, tzinfo=tzlocal())},\n",
       " 'ResponseMetadata': {'RequestId': 'Z4XNSVJ3OJVHEQHC7MAXOGZCDY',\n",
       "  'HTTPStatusCode': 200,\n",
       "  'HTTPHeaders': {'x-amzn-requestid': 'Z4XNSVJ3OJVHEQHC7MAXOGZCDY',\n",
       "   'content-type': 'application/x-amz-json-1.0',\n",
       "   'content-length': '322',\n",
       "   'date': 'Mon, 18 May 2020 13:51:14 GMT'},\n",
       "  'RetryAttempts': 0}}"
      ]
     },
     "execution_count": 41,
     "metadata": {},
     "output_type": "execute_result"
    }
   ],
   "source": [
    "tsc.create_table(DatabaseName=DB_NAME, TableName=TABLE_NAME, RetentionProperties= {\n",
    "    'MemoryStoreRetentionPeriodInHours': HOT_TIER_HOURS,\n",
    "    'MagneticStoreRetentionPeriodInDays': COLD_TIER_TTL\n",
    "})"
   ]
  },
  {
   "cell_type": "code",
   "execution_count": 42,
   "metadata": {},
   "outputs": [
    {
     "data": {
      "text/plain": [
       "{'Table': {'Arn': 'arn:aws:timestream:us-east-1:699391019698:database/ruuvi/table/sensors',\n",
       "  'TableName': 'sensors',\n",
       "  'DatabaseName': 'ruuvi',\n",
       "  'TableStatus': 'ACTIVE',\n",
       "  'RetentionProperties': {'MemoryStoreRetentionPeriodInHours': 24,\n",
       "   'MagneticStoreRetentionPeriodInDays': 90},\n",
       "  'CreationTime': datetime.datetime(2020, 5, 18, 15, 51, 14, tzinfo=tzlocal()),\n",
       "  'LastUpdatedTime': datetime.datetime(2020, 5, 18, 15, 51, 14, tzinfo=tzlocal())},\n",
       " 'ResponseMetadata': {'RequestId': '2XZBLQQRI3QLLW4AB24IXDEWJU',\n",
       "  'HTTPStatusCode': 200,\n",
       "  'HTTPHeaders': {'x-amzn-requestid': '2XZBLQQRI3QLLW4AB24IXDEWJU',\n",
       "   'content-type': 'application/x-amz-json-1.0',\n",
       "   'content-length': '322',\n",
       "   'date': 'Mon, 18 May 2020 13:51:14 GMT'},\n",
       "  'RetryAttempts': 0}}"
      ]
     },
     "execution_count": 42,
     "metadata": {},
     "output_type": "execute_result"
    }
   ],
   "source": [
    "tsc.describe_table(DatabaseName=DB_NAME, TableName=TABLE_NAME)"
   ]
  },
  {
   "cell_type": "markdown",
   "metadata": {},
   "source": [
    "## Write data"
   ]
  },
  {
   "cell_type": "markdown",
   "metadata": {},
   "source": [
    "The API to write records accepts either single records with distinct dimensions or multiple records with the same dimension."
   ]
  },
  {
   "cell_type": "code",
   "execution_count": 43,
   "metadata": {},
   "outputs": [],
   "source": [
    "sensor1_dimensions = [\n",
    "    { 'Name': 'location', 'Value': 'bedroom'},\n",
    "    { 'Name': 'site', 'Value': 'home'}\n",
    "]\n",
    "sensor2_dimensions = [\n",
    "    { 'Name': 'location', 'Value': 'bathroom'},\n",
    "    { 'Name': 'site', 'Value': 'home'}\n",
    "]\n",
    "sensor3_dimensions = [\n",
    "    { 'Name': 'location', 'Value': 'greenhouse'},\n",
    "    { 'Name': 'site', 'Value': 'home'}\n",
    "]\n"
   ]
  },
  {
   "cell_type": "markdown",
   "metadata": {},
   "source": [
    "In our case the data emitted by the sensors has the following format:\n",
    "\n",
    "```json\n",
    "{\n",
    "  \"dataFormat\": 5,\n",
    "  \"rssi\": -90,\n",
    "  \"temperature\": 21.87,\n",
    "  \"humidity\": 30.1775,\n",
    "  \"pressure\": 101028,\n",
    "  \"accelerationX\": 32,\n",
    "  \"accelerationY\": -24,\n",
    "  \"accelerationZ\": 1016,\n",
    "  \"battery\": 2989,\n",
    "  \"txPower\": 4,\n",
    "  \"movementCounter\": 24,\n",
    "  \"measurementSequenceNumber\": 45173\n",
    "}\n",
    "```\n",
    "\n",
    "Each value corresponds to a measure. For the input above we can then create the records as follow:"
   ]
  },
  {
   "cell_type": "code",
   "execution_count": 44,
   "metadata": {},
   "outputs": [
    {
     "name": "stdout",
     "output_type": "stream",
     "text": [
      "[{'MeasureName': 'temperature', 'MeasureValue': '21.87'}, {'MeasureName': 'humidity', 'MeasureValue': '30.1775'}, {'MeasureName': 'pressure', 'MeasureValue': '101028'}, {'MeasureName': 'battery', 'MeasureValue': '2989'}, {'MeasureName': 'txPower', 'MeasureValue': '4'}]\n"
     ]
    }
   ],
   "source": [
    "from time import time\n",
    "\n",
    "data = {\n",
    "  \"dataFormat\": 5,\n",
    "  \"rssi\": -90,\n",
    "  \"temperature\": 21.87,\n",
    "  \"humidity\": 30.1775,\n",
    "  \"pressure\": 101028,\n",
    "  \"accelerationX\": 32,\n",
    "  \"accelerationY\": -24,\n",
    "  \"accelerationZ\": 1016,\n",
    "  \"battery\": 2989,\n",
    "  \"txPower\": 4,\n",
    "  \"movementCounter\": 24,\n",
    "  \"measurementSequenceNumber\": 45173\n",
    "}\n",
    "\n",
    "def ruuvi_data_to_records(data):\n",
    "    records = []\n",
    "    for k,v in data.items():\n",
    "        if k in ['temperature', 'humidity', 'pressure', 'battery', 'txPower']:\n",
    "            records.append({\n",
    "                'MeasureName': k,\n",
    "                'MeasureValue': str(v)\n",
    "            })\n",
    "    return records\n",
    "\n",
    "print(ruuvi_data_to_records(data))"
   ]
  },
  {
   "cell_type": "markdown",
   "metadata": {},
   "source": [
    "And finally we write the records:"
   ]
  },
  {
   "cell_type": "code",
   "execution_count": 57,
   "metadata": {},
   "outputs": [
    {
     "data": {
      "text/plain": [
       "{'ResponseMetadata': {'RequestId': '4JBQVVQSRPGSKO7JVTF6SD6QO4',\n",
       "  'HTTPStatusCode': 200,\n",
       "  'HTTPHeaders': {'x-amzn-requestid': '4JBQVVQSRPGSKO7JVTF6SD6QO4',\n",
       "   'content-type': 'application/x-amz-json-1.0',\n",
       "   'content-length': '0',\n",
       "   'date': 'Mon, 18 May 2020 14:01:17 GMT'},\n",
       "  'RetryAttempts': 0}}"
      ]
     },
     "execution_count": 57,
     "metadata": {},
     "output_type": "execute_result"
    }
   ],
   "source": [
    "tsc.write_records(DatabaseName=DB_NAME,\n",
    "                 TableName=TABLE_NAME,\n",
    "                 CommonAttributes= {\n",
    "                     'Dimensions': sensor1_dimensions,\n",
    "                     'MeasureValueType': 'DOUBLE',\n",
    "                     'Timestamp': str(int(time()*1000)),\n",
    "                     'TimestampUnit': 'MILLISECONDS'\n",
    "                 },\n",
    "                 Records=ruuvi_data_to_records(data))"
   ]
  },
  {
   "cell_type": "markdown",
   "metadata": {},
   "source": [
    "## Queries\n",
    "\n",
    "Queries are written in SQL-like format with some specific time sieries extensions. To run queries we have to instantiate a query client."
   ]
  },
  {
   "cell_type": "code",
   "execution_count": 7,
   "metadata": {},
   "outputs": [],
   "source": [
    "tsq = boto3.client('timestream-query')"
   ]
  },
  {
   "cell_type": "code",
   "execution_count": 66,
   "metadata": {},
   "outputs": [],
   "source": [
    "query='''WITH interp_ts AS (\n",
    "    SELECT location, INTERPOLATE_LINEAR(\n",
    "        CREATE_TIME_SERIES(time, measure_value::double),\n",
    "            SEQUENCE(ago(5m), now(), 10s)) AS temp\n",
    "        FROM ruuvi.sensors\n",
    "        WHERE measure_name='temperature' AND time >= ago(5m)\n",
    "        GROUP BY location\n",
    ")\n",
    "SELECT location, avg(t.temp_unnest) FROM interp_ts\n",
    "CROSS JOIN UNNEST(temp) AS t (time, temp_unnest)\n",
    "GROUP BY location\n",
    "'''"
   ]
  },
  {
   "cell_type": "code",
   "execution_count": 67,
   "metadata": {},
   "outputs": [
    {
     "ename": "ValidationException",
     "evalue": "An error occurred (ValidationException) when calling the Query operation: Cannot interpolate outside of timeseries defined time range.",
     "output_type": "error",
     "traceback": [
      "\u001b[0;31m---------------------------------------------------------------------------\u001b[0m",
      "\u001b[0;31mValidationException\u001b[0m                       Traceback (most recent call last)",
      "\u001b[0;32m<ipython-input-67-aa0f22f103e9>\u001b[0m in \u001b[0;36m<module>\u001b[0;34m\u001b[0m\n\u001b[0;32m----> 1\u001b[0;31m \u001b[0mtsq\u001b[0m\u001b[0;34m.\u001b[0m\u001b[0mquery\u001b[0m\u001b[0;34m(\u001b[0m\u001b[0mQueryString\u001b[0m\u001b[0;34m=\u001b[0m\u001b[0mquery\u001b[0m\u001b[0;34m)\u001b[0m\u001b[0;34m\u001b[0m\u001b[0;34m\u001b[0m\u001b[0m\n\u001b[0m",
      "\u001b[0;32m~/.pyenv/versions/3.8.1/lib/python3.8/site-packages/botocore/client.py\u001b[0m in \u001b[0;36m_api_call\u001b[0;34m(self, *args, **kwargs)\u001b[0m\n\u001b[1;32m    314\u001b[0m                     \"%s() only accepts keyword arguments.\" % py_operation_name)\n\u001b[1;32m    315\u001b[0m             \u001b[0;31m# The \"self\" in this scope is referring to the BaseClient.\u001b[0m\u001b[0;34m\u001b[0m\u001b[0;34m\u001b[0m\u001b[0;34m\u001b[0m\u001b[0m\n\u001b[0;32m--> 316\u001b[0;31m             \u001b[0;32mreturn\u001b[0m \u001b[0mself\u001b[0m\u001b[0;34m.\u001b[0m\u001b[0m_make_api_call\u001b[0m\u001b[0;34m(\u001b[0m\u001b[0moperation_name\u001b[0m\u001b[0;34m,\u001b[0m \u001b[0mkwargs\u001b[0m\u001b[0;34m)\u001b[0m\u001b[0;34m\u001b[0m\u001b[0;34m\u001b[0m\u001b[0m\n\u001b[0m\u001b[1;32m    317\u001b[0m \u001b[0;34m\u001b[0m\u001b[0m\n\u001b[1;32m    318\u001b[0m         \u001b[0m_api_call\u001b[0m\u001b[0;34m.\u001b[0m\u001b[0m__name__\u001b[0m \u001b[0;34m=\u001b[0m \u001b[0mstr\u001b[0m\u001b[0;34m(\u001b[0m\u001b[0mpy_operation_name\u001b[0m\u001b[0;34m)\u001b[0m\u001b[0;34m\u001b[0m\u001b[0;34m\u001b[0m\u001b[0m\n",
      "\u001b[0;32m~/.pyenv/versions/3.8.1/lib/python3.8/site-packages/botocore/client.py\u001b[0m in \u001b[0;36m_make_api_call\u001b[0;34m(self, operation_name, api_params)\u001b[0m\n\u001b[1;32m    624\u001b[0m             \u001b[0merror_code\u001b[0m \u001b[0;34m=\u001b[0m \u001b[0mparsed_response\u001b[0m\u001b[0;34m.\u001b[0m\u001b[0mget\u001b[0m\u001b[0;34m(\u001b[0m\u001b[0;34m\"Error\"\u001b[0m\u001b[0;34m,\u001b[0m \u001b[0;34m{\u001b[0m\u001b[0;34m}\u001b[0m\u001b[0;34m)\u001b[0m\u001b[0;34m.\u001b[0m\u001b[0mget\u001b[0m\u001b[0;34m(\u001b[0m\u001b[0;34m\"Code\"\u001b[0m\u001b[0;34m)\u001b[0m\u001b[0;34m\u001b[0m\u001b[0;34m\u001b[0m\u001b[0m\n\u001b[1;32m    625\u001b[0m             \u001b[0merror_class\u001b[0m \u001b[0;34m=\u001b[0m \u001b[0mself\u001b[0m\u001b[0;34m.\u001b[0m\u001b[0mexceptions\u001b[0m\u001b[0;34m.\u001b[0m\u001b[0mfrom_code\u001b[0m\u001b[0;34m(\u001b[0m\u001b[0merror_code\u001b[0m\u001b[0;34m)\u001b[0m\u001b[0;34m\u001b[0m\u001b[0;34m\u001b[0m\u001b[0m\n\u001b[0;32m--> 626\u001b[0;31m             \u001b[0;32mraise\u001b[0m \u001b[0merror_class\u001b[0m\u001b[0;34m(\u001b[0m\u001b[0mparsed_response\u001b[0m\u001b[0;34m,\u001b[0m \u001b[0moperation_name\u001b[0m\u001b[0;34m)\u001b[0m\u001b[0;34m\u001b[0m\u001b[0;34m\u001b[0m\u001b[0m\n\u001b[0m\u001b[1;32m    627\u001b[0m         \u001b[0;32melse\u001b[0m\u001b[0;34m:\u001b[0m\u001b[0;34m\u001b[0m\u001b[0;34m\u001b[0m\u001b[0m\n\u001b[1;32m    628\u001b[0m             \u001b[0;32mreturn\u001b[0m \u001b[0mparsed_response\u001b[0m\u001b[0;34m\u001b[0m\u001b[0;34m\u001b[0m\u001b[0m\n",
      "\u001b[0;31mValidationException\u001b[0m: An error occurred (ValidationException) when calling the Query operation: Cannot interpolate outside of timeseries defined time range."
     ]
    }
   ],
   "source": [
    "tsq.query(QueryString=query)"
   ]
  },
  {
   "cell_type": "code",
   "execution_count": 8,
   "metadata": {},
   "outputs": [],
   "source": [
    "\n",
    "QUERY_MULTI = \"\"\"select bin(time, {bin}) as binned_time, avg(case when measure_name='temperature' then measure_value::double else null end) as avg_temp,\n",
    "avg(case when measure_name='humidity' then measure_value::double else null end) as avg_humidity,\n",
    "avg(case when measure_name='pressure' then measure_value::double else null end) as avg_pressure\n",
    "from ruuvi.sensors\n",
    "where time > ago({time}) and location = '{location}'\n",
    "group by bin(time, {bin})\n",
    "order by bin(time, {bin})\"\"\""
   ]
  },
  {
   "cell_type": "code",
   "execution_count": 9,
   "metadata": {},
   "outputs": [],
   "source": [
    "query = QUERY_MULTI.format(time='3h', bin='10m', location='e7428453ecb1')"
   ]
  },
  {
   "cell_type": "code",
   "execution_count": 10,
   "metadata": {},
   "outputs": [
    {
     "data": {
      "text/plain": [
       "\"select bin(time, 10m) as binned_time, avg(case when measure_name='temperature' then measure_value::double else null end) as avg_temp,\\navg(case when measure_name='humidity' then measure_value::double else null end) as avg_humidity,\\navg(case when measure_name='pressure' then measure_value::double else null end) as avg_pressure,\\nfrom ruuvi.sensors\\nwhere time > ago(3h) and location = 'e7428453ecb1'\\ngroup by bin(time, 10m)\\norder by bin(time, 10m)\""
      ]
     },
     "execution_count": 10,
     "metadata": {},
     "output_type": "execute_result"
    }
   ],
   "source": [
    "query"
   ]
  },
  {
   "cell_type": "code",
   "execution_count": null,
   "metadata": {},
   "outputs": [],
   "source": [
    "tsq.query(QueryString=query)"
   ]
  }
 ],
 "metadata": {
  "kernelspec": {
   "display_name": "Python 3",
   "language": "python",
   "name": "python3"
  },
  "language_info": {
   "codemirror_mode": {
    "name": "ipython",
    "version": 3
   },
   "file_extension": ".py",
   "mimetype": "text/x-python",
   "name": "python",
   "nbconvert_exporter": "python",
   "pygments_lexer": "ipython3",
   "version": "3.8.1"
  }
 },
 "nbformat": 4,
 "nbformat_minor": 4
}

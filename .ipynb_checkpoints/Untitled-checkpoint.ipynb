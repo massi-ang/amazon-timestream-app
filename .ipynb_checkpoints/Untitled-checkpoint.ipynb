{
 "cells": [
  {
   "cell_type": "markdown",
   "metadata": {},
   "source": [
    "# Timestream demo"
   ]
  },
  {
   "cell_type": "markdown",
   "metadata": {},
   "source": [
    "# Timestream\n",
    "\n",
    "This notebook explores the Timestream API via an sample database that is used to store sensor data from Ruuvi sensors. If you do not own Ruuvi sensor you can simply simulate the data using the generator.\n",
    "\n",
    "## Preparation\n",
    "\n",
    "In order to use the boto3 SDK you have to do some preparation steps.\n",
    "As this is a preview the SDK is not included in the standard boto3. You can add it using the following lines code:\n",
    "\n",
    "```bash\n",
    "aws configure add-model --service-name timestream-query --service-model file://./timestream-query/2018-11-01/service-2.json\n",
    "aws configure add-model --service-name timestream-write --service-model file://./timestream-write/2018-11-01/service-2.json\n",
    "```\n",
    "\n",
    "You have also to configure your `~/.aws/config` file adding the following line to the profile you want to use (eg `default`):\n",
    "\n",
    "```\n",
    "[default]\n",
    "endpoind_discovery_enabled=true\n",
    "```"
   ]
  },
  {
   "cell_type": "code",
   "execution_count": 1,
   "metadata": {},
   "outputs": [],
   "source": [
    "import boto3\n",
    "boto3.setup_default_session(profile_name='iot',region_name='us-east-1')"
   ]
  },
  {
   "cell_type": "markdown",
   "metadata": {},
   "source": [
    "## Databases\n",
    "\n",
    "Timestream databases and tables can be created using the write client."
   ]
  },
  {
   "cell_type": "code",
   "execution_count": 2,
   "metadata": {},
   "outputs": [],
   "source": [
    "tsc = boto3.client('timestream-write')"
   ]
  },
  {
   "cell_type": "code",
   "execution_count": 3,
   "metadata": {},
   "outputs": [
    {
     "data": {
      "text/plain": [
       "{'Databases': [{'Arn': 'arn:aws:timestream:us-east-1:699391019698:database/ruuvi',\n",
       "   'DatabaseName': 'ruuvi',\n",
       "   'TableCount': 1,\n",
       "   'KmsKeyId': 'arn:aws:kms:us-east-1:699391019698:key/85b0ac66-732f-4a71-b74a-e33073d64f86',\n",
       "   'CreationTime': datetime.datetime(2020, 5, 18, 15, 51, 11, tzinfo=tzlocal())},\n",
       "  {'Arn': 'arn:aws:timestream:us-east-1:699391019698:database/sampleDB',\n",
       "   'DatabaseName': 'sampleDB',\n",
       "   'TableCount': 1,\n",
       "   'KmsKeyId': 'arn:aws:kms:us-east-1:699391019698:key/85b0ac66-732f-4a71-b74a-e33073d64f86',\n",
       "   'CreationTime': datetime.datetime(2020, 5, 4, 21, 21, 14, tzinfo=tzlocal())},\n",
       "  {'Arn': 'arn:aws:timestream:us-east-1:699391019698:database/sampleDBdevops',\n",
       "   'DatabaseName': 'sampleDBdevops',\n",
       "   'TableCount': 1,\n",
       "   'KmsKeyId': 'arn:aws:kms:us-east-1:699391019698:key/85b0ac66-732f-4a71-b74a-e33073d64f86',\n",
       "   'CreationTime': datetime.datetime(2020, 5, 27, 16, 29, 27, tzinfo=tzlocal())}],\n",
       " 'ResponseMetadata': {'RequestId': 'OPT2MSDEHZS2YZDPE5INCFB6EA',\n",
       "  'HTTPStatusCode': 200,\n",
       "  'HTTPHeaders': {'x-amzn-requestid': 'OPT2MSDEHZS2YZDPE5INCFB6EA',\n",
       "   'content-type': 'application/x-amz-json-1.0',\n",
       "   'content-length': '708',\n",
       "   'date': 'Mon, 01 Jun 2020 12:41:27 GMT'},\n",
       "  'RetryAttempts': 0}}"
      ]
     },
     "execution_count": 3,
     "metadata": {},
     "output_type": "execute_result"
    }
   ],
   "source": [
    "tsc.list_databases()"
   ]
  },
  {
   "cell_type": "code",
   "execution_count": 4,
   "metadata": {},
   "outputs": [],
   "source": [
    "DB_NAME='demo_db'"
   ]
  },
  {
   "cell_type": "code",
   "execution_count": 9,
   "metadata": {},
   "outputs": [
    {
     "data": {
      "text/plain": [
       "{'Database': {'Arn': 'arn:aws:timestream:us-east-1:699391019698:database/demo_db',\n",
       "  'DatabaseName': 'demo_db',\n",
       "  'TableCount': 0,\n",
       "  'KmsKeyId': 'arn:aws:kms:us-east-1:699391019698:key/85b0ac66-732f-4a71-b74a-e33073d64f86',\n",
       "  'CreationTime': datetime.datetime(2020, 6, 1, 14, 44, 12, tzinfo=tzlocal())},\n",
       " 'ResponseMetadata': {'RequestId': '2WLLPQPWYFG4ERQ5GYLNJDDCGQ',\n",
       "  'HTTPStatusCode': 200,\n",
       "  'HTTPHeaders': {'x-amzn-requestid': '2WLLPQPWYFG4ERQ5GYLNJDDCGQ',\n",
       "   'content-type': 'application/x-amz-json-1.0',\n",
       "   'content-length': '239',\n",
       "   'date': 'Mon, 01 Jun 2020 12:44:11 GMT'},\n",
       "  'RetryAttempts': 0}}"
      ]
     },
     "execution_count": 9,
     "metadata": {},
     "output_type": "execute_result"
    }
   ],
   "source": [
    "tsc.create_database(DatabaseName=DB_NAME)"
   ]
  },
  {
   "cell_type": "code",
   "execution_count": 7,
   "metadata": {},
   "outputs": [],
   "source": [
    "TABLE_NAME='delta_stream'\n",
    "HOT_TIER_HOURS=24\n",
    "COLD_TIER_TTL=90"
   ]
  },
  {
   "cell_type": "code",
   "execution_count": 12,
   "metadata": {},
   "outputs": [
    {
     "data": {
      "text/plain": [
       "{'Table': {'Arn': 'arn:aws:timestream:us-east-1:699391019698:database/demo_db/table/delta_stream',\n",
       "  'TableName': 'delta_stream',\n",
       "  'DatabaseName': 'demo_db',\n",
       "  'TableStatus': 'ACTIVE',\n",
       "  'RetentionProperties': {'MemoryStoreRetentionPeriodInHours': 24,\n",
       "   'MagneticStoreRetentionPeriodInDays': 90},\n",
       "  'CreationTime': datetime.datetime(2020, 6, 1, 14, 44, 42, tzinfo=tzlocal()),\n",
       "  'LastUpdatedTime': datetime.datetime(2020, 6, 1, 14, 44, 42, tzinfo=tzlocal())},\n",
       " 'ResponseMetadata': {'RequestId': 'H6E57MUOBBXAVDU24A2SV6WIOA',\n",
       "  'HTTPStatusCode': 200,\n",
       "  'HTTPHeaders': {'x-amzn-requestid': 'H6E57MUOBBXAVDU24A2SV6WIOA',\n",
       "   'content-type': 'application/x-amz-json-1.0',\n",
       "   'content-length': '336',\n",
       "   'date': 'Mon, 01 Jun 2020 12:44:42 GMT'},\n",
       "  'RetryAttempts': 0}}"
      ]
     },
     "execution_count": 12,
     "metadata": {},
     "output_type": "execute_result"
    }
   ],
   "source": [
    "tsc.create_table(DatabaseName=DB_NAME, TableName=TABLE_NAME, RetentionProperties= {\n",
    "    'MemoryStoreRetentionPeriodInHours': HOT_TIER_HOURS,\n",
    "    'MagneticStoreRetentionPeriodInDays': COLD_TIER_TTL\n",
    "})"
   ]
  },
  {
   "cell_type": "code",
   "execution_count": 13,
   "metadata": {},
   "outputs": [
    {
     "data": {
      "text/plain": [
       "{'Table': {'Arn': 'arn:aws:timestream:us-east-1:699391019698:database/demo_db/table/delta_stream',\n",
       "  'TableName': 'delta_stream',\n",
       "  'DatabaseName': 'demo_db',\n",
       "  'TableStatus': 'ACTIVE',\n",
       "  'RetentionProperties': {'MemoryStoreRetentionPeriodInHours': 24,\n",
       "   'MagneticStoreRetentionPeriodInDays': 90},\n",
       "  'CreationTime': datetime.datetime(2020, 6, 1, 14, 44, 42, tzinfo=tzlocal()),\n",
       "  'LastUpdatedTime': datetime.datetime(2020, 6, 1, 14, 44, 42, tzinfo=tzlocal())},\n",
       " 'ResponseMetadata': {'RequestId': 'SF425DF2HRVLTUOK3AVRBKATFI',\n",
       "  'HTTPStatusCode': 200,\n",
       "  'HTTPHeaders': {'x-amzn-requestid': 'SF425DF2HRVLTUOK3AVRBKATFI',\n",
       "   'content-type': 'application/x-amz-json-1.0',\n",
       "   'content-length': '336',\n",
       "   'date': 'Mon, 01 Jun 2020 12:44:43 GMT'},\n",
       "  'RetryAttempts': 0}}"
      ]
     },
     "execution_count": 13,
     "metadata": {},
     "output_type": "execute_result"
    }
   ],
   "source": [
    "tsc.describe_table(DatabaseName=DB_NAME, TableName=TABLE_NAME)"
   ]
  },
  {
   "cell_type": "markdown",
   "metadata": {},
   "source": [
    "## Write data"
   ]
  },
  {
   "cell_type": "markdown",
   "metadata": {},
   "source": [
    "The API to write records accepts either single records with distinct dimensions or multiple records with the same dimension."
   ]
  },
  {
   "cell_type": "code",
   "execution_count": 14,
   "metadata": {},
   "outputs": [],
   "source": [
    "sensor1_dimensions = [\n",
    "    { 'Name': 'location', 'Value': 'room1'},\n",
    "    { 'Name': 'site', 'Value': 'home'}\n",
    "]\n",
    "sensor2_dimensions = [\n",
    "    { 'Name': 'location', 'Value': 'room2'},\n",
    "    { 'Name': 'site', 'Value': 'home'}\n",
    "]\n",
    "sensor3_dimensions = [\n",
    "    { 'Name': 'location', 'Value': 'room3'},\n",
    "    { 'Name': 'site', 'Value': 'home'}\n",
    "]\n"
   ]
  },
  {
   "cell_type": "markdown",
   "metadata": {},
   "source": [
    "In our case the data emitted by the sensors has the following format:\n",
    "\n",
    "```json\n",
    "{\n",
    "  \"presence\": 0,\n",
    "  \"luminosity\": 1,\n",
    "  \"temperature\": 21.87\n",
    "}\n",
    "```\n",
    "\n",
    "Each value corresponds to a measure. For the input above we can then create the records as follow:"
   ]
  },
  {
   "cell_type": "code",
   "execution_count": 15,
   "metadata": {},
   "outputs": [
    {
     "name": "stdout",
     "output_type": "stream",
     "text": [
      "[{'MeasureName': 'presence', 'MeasureValue': '0'}, {'MeasureName': 'luminosity', 'MeasureValue': '1'}, {'MeasureName': 'temperature', 'MeasureValue': '21.87'}]\n"
     ]
    }
   ],
   "source": [
    "from time import time\n",
    "\n",
    "data = {\n",
    "  \"presence\": 0,\n",
    "  \"luminosity\": 1,\n",
    "  \"temperature\": 21.87\n",
    "}\n",
    "\n",
    "def data_to_records(data):\n",
    "    records = []\n",
    "    for k,v in data.items():\n",
    "        if k in ['presence', 'luminosity', 'temperature']:\n",
    "            records.append({\n",
    "                'MeasureName': k,\n",
    "                'MeasureValue': str(v)\n",
    "            })\n",
    "    return records\n",
    "\n",
    "print(data_to_records(data))"
   ]
  },
  {
   "cell_type": "markdown",
   "metadata": {},
   "source": [
    "And finally we write the records:"
   ]
  },
  {
   "cell_type": "code",
   "execution_count": 16,
   "metadata": {},
   "outputs": [
    {
     "data": {
      "text/plain": [
       "{'ResponseMetadata': {'RequestId': 'A3QSEUHCO5C5RYUMPJCRNAGLO4',\n",
       "  'HTTPStatusCode': 200,\n",
       "  'HTTPHeaders': {'x-amzn-requestid': 'A3QSEUHCO5C5RYUMPJCRNAGLO4',\n",
       "   'content-type': 'application/x-amz-json-1.0',\n",
       "   'content-length': '0',\n",
       "   'date': 'Mon, 01 Jun 2020 12:48:24 GMT'},\n",
       "  'RetryAttempts': 1}}"
      ]
     },
     "execution_count": 16,
     "metadata": {},
     "output_type": "execute_result"
    }
   ],
   "source": [
    "tsc.write_records(DatabaseName=DB_NAME,\n",
    "                 TableName=TABLE_NAME,\n",
    "                 CommonAttributes= {\n",
    "                     'Dimensions': sensor1_dimensions,\n",
    "                     'MeasureValueType': 'DOUBLE',\n",
    "                     'Timestamp': str(int(time()*1000)),\n",
    "                     'TimestampUnit': 'MILLISECONDS'\n",
    "                 },\n",
    "                 Records=data_to_records(data))"
   ]
  },
  {
   "cell_type": "code",
   "execution_count": 65,
   "metadata": {},
   "outputs": [],
   "source": [
    "import random\n",
    "import time\n",
    "def get_presence():\n",
    "    x = random.randint(0, 1)\n",
    "    return x\n",
    "\n",
    "def get_luminosity():\n",
    "    x = random.random()*10\n",
    "    return x\n",
    "\n",
    "def get_temperature():\n",
    "    x = random.random()*30-5\n",
    "    return x"
   ]
  },
  {
   "cell_type": "code",
   "execution_count": null,
   "metadata": {},
   "outputs": [
    {
     "name": "stdout",
     "output_type": "stream",
     "text": [
      "{'presence': 1, 'luminosity': 1.7855089150810899, 'temperature': 0.43525477868120976}...done\n",
      "{'presence': 0, 'luminosity': 8.464481402347895, 'temperature': -1.5278091478763045}...done\n",
      "{'presence': 1, 'luminosity': 4.986582513405988, 'temperature': 9.647631558221049}"
     ]
    }
   ],
   "source": [
    "for i in range(40):\n",
    "    data = {\n",
    "        \"presence\": get_presence(),\n",
    "        \"luminosity\": get_luminosity(),\n",
    "        \"temperature\": get_temperature()\n",
    "    }\n",
    "    print(data, end='')\n",
    "    try: \n",
    "        tsc.write_records(DatabaseName=DB_NAME,\n",
    "                 TableName=TABLE_NAME,\n",
    "                 CommonAttributes= {\n",
    "                     'Dimensions': sensor1_dimensions,\n",
    "                     'MeasureValueType': 'DOUBLE',\n",
    "                     'Timestamp': str(int(time.time()*1000)),\n",
    "                     'TimestampUnit': 'MILLISECONDS'\n",
    "                 },\n",
    "                 Records=data_to_records(data))\n",
    "        print('...done')\n",
    "    except Exception as ex:\n",
    "        print('...failed')\n",
    "    \n",
    "    time.sleep(random.randint(5, 15))\n",
    "    "
   ]
  },
  {
   "cell_type": "markdown",
   "metadata": {},
   "source": [
    "## Queries\n",
    "\n",
    "Queries are written in SQL-like format with some specific time sieries extensions. To run queries we have to instantiate a query client."
   ]
  },
  {
   "cell_type": "code",
   "execution_count": 7,
   "metadata": {},
   "outputs": [],
   "source": [
    "tsq = boto3.client('timestream-query')"
   ]
  },
  {
   "cell_type": "code",
   "execution_count": 66,
   "metadata": {},
   "outputs": [],
   "source": [
    "query='''WITH interp_ts AS (\n",
    "    SELECT location, INTERPOLATE_LINEAR(\n",
    "        CREATE_TIME_SERIES(time, measure_value::double),\n",
    "            SEQUENCE(ago(5m), now(), 10s)) AS temp\n",
    "        FROM ruuvi.sensors\n",
    "        WHERE measure_name='temperature' AND time >= ago(5m)\n",
    "        GROUP BY location\n",
    ")\n",
    "SELECT location, avg(t.temp_unnest) FROM interp_ts\n",
    "CROSS JOIN UNNEST(temp) AS t (time, temp_unnest)\n",
    "GROUP BY location\n",
    "'''"
   ]
  },
  {
   "cell_type": "code",
   "execution_count": 67,
   "metadata": {},
   "outputs": [
    {
     "ename": "ValidationException",
     "evalue": "An error occurred (ValidationException) when calling the Query operation: Cannot interpolate outside of timeseries defined time range.",
     "output_type": "error",
     "traceback": [
      "\u001b[0;31m---------------------------------------------------------------------------\u001b[0m",
      "\u001b[0;31mValidationException\u001b[0m                       Traceback (most recent call last)",
      "\u001b[0;32m<ipython-input-67-aa0f22f103e9>\u001b[0m in \u001b[0;36m<module>\u001b[0;34m\u001b[0m\n\u001b[0;32m----> 1\u001b[0;31m \u001b[0mtsq\u001b[0m\u001b[0;34m.\u001b[0m\u001b[0mquery\u001b[0m\u001b[0;34m(\u001b[0m\u001b[0mQueryString\u001b[0m\u001b[0;34m=\u001b[0m\u001b[0mquery\u001b[0m\u001b[0;34m)\u001b[0m\u001b[0;34m\u001b[0m\u001b[0;34m\u001b[0m\u001b[0m\n\u001b[0m",
      "\u001b[0;32m~/.pyenv/versions/3.8.1/lib/python3.8/site-packages/botocore/client.py\u001b[0m in \u001b[0;36m_api_call\u001b[0;34m(self, *args, **kwargs)\u001b[0m\n\u001b[1;32m    314\u001b[0m                     \"%s() only accepts keyword arguments.\" % py_operation_name)\n\u001b[1;32m    315\u001b[0m             \u001b[0;31m# The \"self\" in this scope is referring to the BaseClient.\u001b[0m\u001b[0;34m\u001b[0m\u001b[0;34m\u001b[0m\u001b[0;34m\u001b[0m\u001b[0m\n\u001b[0;32m--> 316\u001b[0;31m             \u001b[0;32mreturn\u001b[0m \u001b[0mself\u001b[0m\u001b[0;34m.\u001b[0m\u001b[0m_make_api_call\u001b[0m\u001b[0;34m(\u001b[0m\u001b[0moperation_name\u001b[0m\u001b[0;34m,\u001b[0m \u001b[0mkwargs\u001b[0m\u001b[0;34m)\u001b[0m\u001b[0;34m\u001b[0m\u001b[0;34m\u001b[0m\u001b[0m\n\u001b[0m\u001b[1;32m    317\u001b[0m \u001b[0;34m\u001b[0m\u001b[0m\n\u001b[1;32m    318\u001b[0m         \u001b[0m_api_call\u001b[0m\u001b[0;34m.\u001b[0m\u001b[0m__name__\u001b[0m \u001b[0;34m=\u001b[0m \u001b[0mstr\u001b[0m\u001b[0;34m(\u001b[0m\u001b[0mpy_operation_name\u001b[0m\u001b[0;34m)\u001b[0m\u001b[0;34m\u001b[0m\u001b[0;34m\u001b[0m\u001b[0m\n",
      "\u001b[0;32m~/.pyenv/versions/3.8.1/lib/python3.8/site-packages/botocore/client.py\u001b[0m in \u001b[0;36m_make_api_call\u001b[0;34m(self, operation_name, api_params)\u001b[0m\n\u001b[1;32m    624\u001b[0m             \u001b[0merror_code\u001b[0m \u001b[0;34m=\u001b[0m \u001b[0mparsed_response\u001b[0m\u001b[0;34m.\u001b[0m\u001b[0mget\u001b[0m\u001b[0;34m(\u001b[0m\u001b[0;34m\"Error\"\u001b[0m\u001b[0;34m,\u001b[0m \u001b[0;34m{\u001b[0m\u001b[0;34m}\u001b[0m\u001b[0;34m)\u001b[0m\u001b[0;34m.\u001b[0m\u001b[0mget\u001b[0m\u001b[0;34m(\u001b[0m\u001b[0;34m\"Code\"\u001b[0m\u001b[0;34m)\u001b[0m\u001b[0;34m\u001b[0m\u001b[0;34m\u001b[0m\u001b[0m\n\u001b[1;32m    625\u001b[0m             \u001b[0merror_class\u001b[0m \u001b[0;34m=\u001b[0m \u001b[0mself\u001b[0m\u001b[0;34m.\u001b[0m\u001b[0mexceptions\u001b[0m\u001b[0;34m.\u001b[0m\u001b[0mfrom_code\u001b[0m\u001b[0;34m(\u001b[0m\u001b[0merror_code\u001b[0m\u001b[0;34m)\u001b[0m\u001b[0;34m\u001b[0m\u001b[0;34m\u001b[0m\u001b[0m\n\u001b[0;32m--> 626\u001b[0;31m             \u001b[0;32mraise\u001b[0m \u001b[0merror_class\u001b[0m\u001b[0;34m(\u001b[0m\u001b[0mparsed_response\u001b[0m\u001b[0;34m,\u001b[0m \u001b[0moperation_name\u001b[0m\u001b[0;34m)\u001b[0m\u001b[0;34m\u001b[0m\u001b[0;34m\u001b[0m\u001b[0m\n\u001b[0m\u001b[1;32m    627\u001b[0m         \u001b[0;32melse\u001b[0m\u001b[0;34m:\u001b[0m\u001b[0;34m\u001b[0m\u001b[0;34m\u001b[0m\u001b[0m\n\u001b[1;32m    628\u001b[0m             \u001b[0;32mreturn\u001b[0m \u001b[0mparsed_response\u001b[0m\u001b[0;34m\u001b[0m\u001b[0;34m\u001b[0m\u001b[0m\n",
      "\u001b[0;31mValidationException\u001b[0m: An error occurred (ValidationException) when calling the Query operation: Cannot interpolate outside of timeseries defined time range."
     ]
    }
   ],
   "source": [
    "tsq.query(QueryString=query)"
   ]
  },
  {
   "cell_type": "code",
   "execution_count": 8,
   "metadata": {},
   "outputs": [],
   "source": [
    "\n",
    "QUERY_MULTI = \"\"\"select bin(time, {bin}) as binned_time, avg(case when measure_name='temperature' then measure_value::double else null end) as avg_temp,\n",
    "avg(case when measure_name='humidity' then measure_value::double else null end) as avg_humidity,\n",
    "avg(case when measure_name='pressure' then measure_value::double else null end) as avg_pressure\n",
    "from ruuvi.sensors\n",
    "where time > ago({time}) and location = '{location}'\n",
    "group by bin(time, {bin})\n",
    "order by bin(time, {bin})\"\"\""
   ]
  },
  {
   "cell_type": "code",
   "execution_count": 9,
   "metadata": {},
   "outputs": [],
   "source": [
    "query = QUERY_MULTI.format(time='3h', bin='10m', location='e7428453ecb1')"
   ]
  },
  {
   "cell_type": "code",
   "execution_count": 10,
   "metadata": {},
   "outputs": [
    {
     "data": {
      "text/plain": [
       "\"select bin(time, 10m) as binned_time, avg(case when measure_name='temperature' then measure_value::double else null end) as avg_temp,\\navg(case when measure_name='humidity' then measure_value::double else null end) as avg_humidity,\\navg(case when measure_name='pressure' then measure_value::double else null end) as avg_pressure,\\nfrom ruuvi.sensors\\nwhere time > ago(3h) and location = 'e7428453ecb1'\\ngroup by bin(time, 10m)\\norder by bin(time, 10m)\""
      ]
     },
     "execution_count": 10,
     "metadata": {},
     "output_type": "execute_result"
    }
   ],
   "source": [
    "query"
   ]
  },
  {
   "cell_type": "code",
   "execution_count": null,
   "metadata": {},
   "outputs": [],
   "source": [
    "tsq.query(QueryString=query)"
   ]
  }
 ],
 "metadata": {
  "kernelspec": {
   "display_name": "Python 3",
   "language": "python",
   "name": "python3"
  },
  "language_info": {
   "codemirror_mode": {
    "name": "ipython",
    "version": 3
   },
   "file_extension": ".py",
   "mimetype": "text/x-python",
   "name": "python",
   "nbconvert_exporter": "python",
   "pygments_lexer": "ipython3",
   "version": "3.8.1"
  }
 },
 "nbformat": 4,
 "nbformat_minor": 4
}

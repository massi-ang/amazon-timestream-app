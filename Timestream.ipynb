{
 "cells": [
  {
   "cell_type": "markdown",
   "metadata": {},
   "source": [
    "# Timestream\n",
    "\n",
    "This notebook explores the Timestream API via an sample database that is used to store sensor data from Ruuvi sensors. If you do not own Ruuvi sensor you can simply simulate the data using the generator.\n"
   ]
  },
  {
   "cell_type": "code",
   "execution_count": null,
   "metadata": {},
   "outputs": [],
   "source": [
    "!pip install boto3 --upgrade"
   ]
  },
  {
   "source": [
    "After importing `boto3` we setup a default session specifying the profile and region we want to use."
   ],
   "cell_type": "markdown",
   "metadata": {}
  },
  {
   "cell_type": "code",
   "execution_count": null,
   "metadata": {},
   "outputs": [],
   "source": [
    "import boto3\n",
    "boto3.setup_default_session(profile_name='iot',region_name='us-east-1')"
   ]
  },
  {
   "cell_type": "markdown",
   "metadata": {},
   "source": [
    "## Databases\n",
    "\n",
    "Timestream databases and tables can be created using the write client.\n",
    "We first crete a client for timestream, list the existing databases and then create a new database."
   ]
  },
  {
   "cell_type": "code",
   "execution_count": null,
   "metadata": {},
   "outputs": [],
   "source": [
    "tsc = boto3.client('timestream-write')"
   ]
  },
  {
   "cell_type": "code",
   "execution_count": null,
   "metadata": {
    "jupyter": {
     "source_hidden": true
    }
   },
   "outputs": [],
   "source": [
    "tsc.list_databases()"
   ]
  },
  {
   "cell_type": "code",
   "execution_count": null,
   "metadata": {},
   "outputs": [],
   "source": [
    "DB_NAME='test4'"
   ]
  },
  {
   "cell_type": "code",
   "execution_count": null,
   "metadata": {},
   "outputs": [],
   "source": [
    "tsc.create_database(DatabaseName=DB_NAME)"
   ]
  },
  {
   "cell_type": "code",
   "execution_count": null,
   "metadata": {},
   "outputs": [],
   "source": [
    "tsc.describe_database(DatabaseName=DB_NAME)"
   ]
  },
  {
   "cell_type": "markdown",
   "metadata": {},
   "source": [
    "## Tables\n",
    "\n",
    "Tables belong to databases and represent the space where you write data. In order to create a new table you specify 2 paramters (2 dials): \n",
    "1. the memory retention period\n",
    "2. the magneting retention period\n",
    "\n",
    "You can write data in timestream if it is not older that what the memory store period counted from the current time. \n",
    "Let's say it is Jan 30th at 12h00, and you have configured the memory retention period to 2hrs, then all data with a timestamp between Jan 30th 10h00 and Jan 30th 12h15 is accepted. As data gets older than what the memory store holds it is automatically moved to the magnetic store.\n"
   ]
  },
  {
   "cell_type": "code",
   "execution_count": null,
   "metadata": {},
   "outputs": [],
   "source": [
    "TABLE_NAME='historical2'\n",
    "HOT_TIER_TTL_HOURS=12\n",
    "COLD_TIER_TTL_DAYS=7"
   ]
  },
  {
   "cell_type": "code",
   "execution_count": null,
   "metadata": {},
   "outputs": [],
   "source": [
    "tsc.create_table(DatabaseName=DB_NAME, TableName=TABLE_NAME, RetentionProperties= {\n",
    "    'MemoryStoreRetentionPeriodInHours': HOT_TIER_TTL_HOURS,\n",
    "    'MagneticStoreRetentionPeriodInDays': COLD_TIER_TTL_DAYS\n",
    "})"
   ]
  },
  {
   "cell_type": "code",
   "execution_count": null,
   "metadata": {},
   "outputs": [],
   "source": [
    "tsc.describe_table(DatabaseName=DB_NAME, TableName=TABLE_NAME)"
   ]
  },
  {
   "cell_type": "markdown",
   "metadata": {},
   "source": [
    "## Write data"
   ]
  },
  {
   "cell_type": "markdown",
   "metadata": {},
   "source": [
    "The API to write records accepts either single records with distinct dimensions or multiple records with the same dimension. \n",
    "\n",
    "Let's say that we want to trac temperature, humidity and pressure from sensors located at different sites. In each site we also have more granular locations. So the dimensions we are going to define for our data will be:\n",
    "\n",
    "* site\n",
    "* location\n",
    "\n",
    "Next, let's define the dimensions for few of our sensors:"
   ]
  },
  {
   "cell_type": "code",
   "execution_count": null,
   "metadata": {},
   "outputs": [],
   "source": [
    "sensor1_dimensions = [\n",
    "    { 'Name': 'location', 'Value': 'bedroom'},\n",
    "    { 'Name': 'site', 'Value': 'home'}\n",
    "]\n",
    "sensor2_dimensions = [\n",
    "    { 'Name': 'location', 'Value': 'bathroom'},\n",
    "    { 'Name': 'site', 'Value': 'home'}\n",
    "]\n",
    "sensor3_dimensions = [\n",
    "    { 'Name': 'location', 'Value': 'greenhouse'},\n",
    "    { 'Name': 'site', 'Value': 'home'}\n",
    "]\n",
    "\n",
    "sensor4_dimensions = [\n",
    "    { 'Name': 'site', 'Value': 'home'}\n",
    "]"
   ]
  },
  {
   "cell_type": "markdown",
   "metadata": {},
   "source": [
    "In our case we are using ruuvi sensors. These sensors generates the following measures:\n",
    "\n",
    "```json\n",
    "{\n",
    "  \"dataFormat\": 5,\n",
    "  \"rssi\": -90,\n",
    "  \"temperature\": 21.87,\n",
    "  \"humidity\": 30.1775,\n",
    "  \"pressure\": 101028,\n",
    "  \"accelerationX\": 32,\n",
    "  \"accelerationY\": -24,\n",
    "  \"accelerationZ\": 1016,\n",
    "  \"battery\": 2989,\n",
    "  \"txPower\": 4,\n",
    "  \"movementCounter\": 24,\n",
    "  \"measurementSequenceNumber\": 45173\n",
    "}\n",
    "```\n",
    "NOTE: Ruuvi sensor generate binary encoded data. The field names in the above structure are not defined by the sensor.\n",
    "\n",
    "Each value corresponds to a measure. For the input above we can then create the records as follow:"
   ]
  },
  {
   "cell_type": "code",
   "execution_count": null,
   "metadata": {},
   "outputs": [],
   "source": [
    "from time import time\n",
    "\n",
    "data = {\n",
    "  \"dataFormat\": 5,\n",
    "  \"rssi\": -90,\n",
    "  \"temperature\": 24.7,\n",
    "  \"humidity\": 30.1775,\n",
    "  \"pressure\": 101028,\n",
    "  \"accelerationX\": 32,\n",
    "  \"accelerationY\": -24,\n",
    "  \"accelerationZ\": 1016,\n",
    "  \"battery\": 2989,\n",
    "  \"txPower\": 4,\n",
    "  \"movementCounter\": 24,\n",
    "  \"measurementSequenceNumber\": 45173\n",
    "}\n",
    "\n",
    "def ruuvi_data_to_records(data):\n",
    "    records = []\n",
    "    for k,v in data.items():\n",
    "        if k in ['temperature', 'humidity', 'pressure', 'battery', 'txPower']:\n",
    "            records.append({\n",
    "                'MeasureName': k,\n",
    "                'MeasureValue': str(v)\n",
    "            })\n",
    "    return records\n",
    "\n",
    "print(ruuvi_data_to_records(data))"
   ]
  },
  {
   "cell_type": "markdown",
   "metadata": {},
   "source": [
    "And finally we write the records:"
   ]
  },
  {
   "cell_type": "code",
   "execution_count": null,
   "metadata": {},
   "outputs": [],
   "source": [
    "from time import time\n",
    "ts = time()"
   ]
  },
  {
   "cell_type": "code",
   "execution_count": null,
   "metadata": {},
   "outputs": [],
   "source": [
    "try:\n",
    "    tsc.write_records(DatabaseName=DB_NAME,\n",
    "                 TableName=TABLE_NAME,\n",
    "                 CommonAttributes= {\n",
    "                     'Dimensions': sensor1_dimensions,\n",
    "                     'MeasureValueType': 'DOUBLE',\n",
    "                     'Time': str(int(ts*1000)),\n",
    "                     'TimeUnit': 'MILLISECONDS'\n",
    "                 },\n",
    "                 Records=ruuvi_data_to_records(data))\n",
    "except Exception as err:\n",
    "    print(err)"
   ]
  },
  {
   "source": [
    "We can do the for another sensor, this time specifying the record directly with all the fields and not using the common attributes."
   ],
   "cell_type": "markdown",
   "metadata": {}
  },
  {
   "cell_type": "code",
   "execution_count": null,
   "metadata": {},
   "outputs": [],
   "source": [
    "\n",
    "try: \n",
    "    tsc.write_records(DatabaseName=DB_NAME, TableName=TABLE_NAME, Records=[\n",
    "    {\n",
    "        'Dimensions':sensor2_dimensions,\n",
    "        'MeasureValueType': 'DOUBLE',\n",
    "        'Time': str(int(ts*1000)),\n",
    "        'TimeUnit': 'MILLISECONDS', \n",
    "        'MeasureName': 'temperature',\n",
    "        'MeasureValue': '20.2'\n",
    "    }\n",
    "    ])\n",
    "    print('Success')\n",
    "except Exception as err:\n",
    "    e = err"
   ]
  },
  {
   "cell_type": "code",
   "execution_count": null,
   "metadata": {},
   "outputs": [],
   "source": [
    "e.response"
   ]
  },
  {
   "source": [
    "### Changing retention periods\n",
    "\n",
    "We can change the properties of the table at any time. If the memory storage period is extended, data already ingested will not be brought back from magnetic into memory. \n",
    "\n",
    "Say it is 2021-01-01T12h00 and you had configured a memory retention period of 2h. So you might potentially have data in the magnetic store which has a timestamp of 2021-01-01T09h59\n",
    "At this time you change the retention period to 4h, and you try to import data with a timestamp of 2021-01-01T09h00. The timestamp falls inside the new memory retention period, but as there might already be data in the magnetic store with an older timestamp, Timestream will not allow to write it. \n",
    "\n",
    "Time passes, and now it is 2021-01-01T13h00, and you try to write data that is 3hrs old, ie with a timestamp of 2021-01-01T10h00. This write is now accepted since no data after 09h59 has been transitioned to the magnetic store after you have increased the retention period to 4h."
   ],
   "cell_type": "markdown",
   "metadata": {}
  },
  {
   "cell_type": "code",
   "execution_count": null,
   "metadata": {},
   "outputs": [],
   "source": [
    "tsc.update_table(DatabaseName=DB_NAME, TableName=TABLE_NAME, RetentionProperties= {\n",
    "    'MemoryStoreRetentionPeriodInHours': 12,\n",
    "    'MagneticStoreRetentionPeriodInDays': COLD_TIER_TTL_DAYS\n",
    "})"
   ]
  },
  {
   "cell_type": "code",
   "execution_count": null,
   "metadata": {},
   "outputs": [],
   "source": [
    "try:\n",
    "    tsc.write_records(DatabaseName=DB_NAME,\n",
    "                 TableName=TABLE_NAME,\n",
    "                 CommonAttributes= {\n",
    "                     'Dimensions': sensor1_dimensions,\n",
    "                     'MeasureValueType': 'DOUBLE',\n",
    "                     'Time': str(int((time()-4000*12)*1000)),\n",
    "                     'TimeUnit': 'MILLISECONDS'\n",
    "                 },\n",
    "                 Records=ruuvi_data_to_records(data))\n",
    "except Exception as err:\n",
    "    print(err)"
   ]
  },
  {
   "cell_type": "markdown",
   "metadata": {},
   "source": [
    "## Queries\n",
    "\n",
    "Queries are written in SQL-like format with some specific timeseries extensions. To run queries we have to instantiate a query client."
   ]
  },
  {
   "cell_type": "code",
   "execution_count": null,
   "metadata": {},
   "outputs": [],
   "source": [
    "tsq = boto3.client('timestream-query')"
   ]
  },
  {
   "cell_type": "code",
   "execution_count": null,
   "metadata": {},
   "outputs": [],
   "source": [
    "paginator=tsq.get_paginator('query')"
   ]
  },
  {
   "cell_type": "code",
   "execution_count": null,
   "metadata": {},
   "outputs": [],
   "source": [
    "query='''WITH interp_ts AS (\n",
    "    SELECT location, INTERPOLATE_LINEAR(\n",
    "        CREATE_TIME_SERIES(time, measure_value::double),\n",
    "            SEQUENCE(ago(3h), ago(2h), 30m)) AS temp\n",
    "        FROM ruuvi.sensors\n",
    "        WHERE measure_name='temperature' and time>=ago(4h)\n",
    "        GROUP BY location\n",
    ")\n",
    "SELECT location, avg(t.temp_unnest) FROM interp_ts\n",
    "CROSS JOIN UNNEST(temp) AS t (time, temp_unnest)\n",
    "GROUP BY location\n",
    "'''"
   ]
  },
  {
   "cell_type": "code",
   "execution_count": null,
   "metadata": {},
   "outputs": [],
   "source": [
    "query='''SELECT location, measure_name, INTERPOLATE_LINEAR(\n",
    "        CREATE_TIME_SERIES(time, measure_value::double),\n",
    "            SEQUENCE(ago(4h), ago(3h), 10m)) AS v\n",
    "        FROM ruuvi.sensors\n",
    "        WHERE measure_name ='temperature' and time >= ago(5h)\n",
    "                GROUP BY location, measure_name'''"
   ]
  },
  {
   "source": [
    "As a query might retrieve lots of data, the answer is paginated. To easily access all the data, we can use a `paginator`."
   ],
   "cell_type": "markdown",
   "metadata": {}
  },
  {
   "cell_type": "code",
   "execution_count": null,
   "metadata": {},
   "outputs": [],
   "source": [
    "p =paginator.paginate(QueryString=query)"
   ]
  },
  {
   "cell_type": "code",
   "execution_count": null,
   "metadata": {},
   "outputs": [],
   "source": [
    "for page in p:\n",
    "    print(page)"
   ]
  },
  {
   "source": [
    "tsq.query(QueryString=query)"
   ],
   "cell_type": "markdown",
   "metadata": {}
  },
  {
   "source": [
    "When writing code we strive to reuse and factorize as much code as possible. With Timestream we can use substitution templates to write generic queries that can be applied to specific values. "
   ],
   "cell_type": "markdown",
   "metadata": {}
  },
  {
   "cell_type": "code",
   "execution_count": null,
   "metadata": {},
   "outputs": [],
   "source": [
    "\n",
    "QUERY_MULTI = \"\"\"select bin(time, {bin}) as binned_time, avg(case when measure_name='temperature' then measure_value::double else null end) as avg_temp,\n",
    "avg(case when measure_name='humidity' then measure_value::double else null end) as avg_humidity,\n",
    "avg(case when measure_name='pressure' then measure_value::double else null end) as avg_pressure\n",
    "from ruuvi.sensors\n",
    "where time > ago({time}) and location = '{location}'\n",
    "group by bin(time, {bin})\n",
    "order by bin(time, {bin})\"\"\""
   ]
  },
  {
   "cell_type": "code",
   "execution_count": null,
   "metadata": {},
   "outputs": [],
   "source": [
    "query = QUERY_MULTI.format(time='3h', bin='10m', location='e7428453ecb1')"
   ]
  },
  {
   "cell_type": "code",
   "execution_count": null,
   "metadata": {},
   "outputs": [],
   "source": [
    "query"
   ]
  },
  {
   "cell_type": "code",
   "execution_count": null,
   "metadata": {},
   "outputs": [],
   "source": [
    "tsq.query(QueryString=query)"
   ]
  },
  {
   "source": [
    "## What's next\n",
    "\n",
    "You can deploy a demo application using the code in the `./cdk` folder (follow the instruction in the README there). This will deploy a small backend that allows client apps to interact with Timestream to query data. In the `./timestream-explorer` folder you find such an app that allows you to visualize arbitrary queries to your database. Think a Timestream query console with graphing capabilities. \n",
    "\n",
    "Have fun, work hard, and never stop learning!\n"
   ],
   "cell_type": "markdown",
   "metadata": {}
  },
  {
   "cell_type": "code",
   "execution_count": null,
   "metadata": {},
   "outputs": [],
   "source": []
  }
 ],
 "metadata": {
  "kernelspec": {
   "display_name": "Python 3",
   "language": "python",
   "name": "python3"
  },
  "language_info": {
   "codemirror_mode": {
    "name": "ipython",
    "version": 3
   },
   "file_extension": ".py",
   "mimetype": "text/x-python",
   "name": "python",
   "nbconvert_exporter": "python",
   "pygments_lexer": "ipython3",
   "version": "3.9.4"
  }
 },
 "nbformat": 4,
 "nbformat_minor": 4
}